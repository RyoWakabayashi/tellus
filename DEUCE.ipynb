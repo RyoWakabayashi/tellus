{
 "cells": [
  {
   "cell_type": "code",
   "execution_count": 1,
   "id": "20152fef-77f3-4638-9f8e-57139572d5af",
   "metadata": {},
   "outputs": [],
   "source": [
    "from tellus.deuce.tellus_deuce import TellusDEUCE\n",
    "from PIL import Image"
   ]
  },
  {
   "cell_type": "code",
   "execution_count": 2,
   "id": "1e4fccea-d4c9-4342-8f2f-0573ce28e1a1",
   "metadata": {},
   "outputs": [],
   "source": [
    "# Set the Tellus API Token\n",
    "token = \"Your API Token\"\n",
    "tellus = TellusDEUCE(token)"
   ]
  },
  {
   "cell_type": "code",
   "execution_count": 3,
   "id": "53adca13-be44-480d-9567-466b01da6c80",
   "metadata": {},
   "outputs": [
    {
     "name": "stdout",
     "output_type": "stream",
     "text": [
      "alos3-pseudo_ortho_10300100537c4f00 2016-03-17T02:08:10+00:00\n",
      "alos3-pseudo_ortho_10300100751b9100 2017-11-28T02:02:12+00:00\n",
      "alos3-pseudo_ortho_10400100356a6500 2017-11-28T02:29:31+00:00\n",
      "alos3-pseudo_ortho_103001009085c000 2019-05-15T02:06:00+00:00\n",
      "alos3-pseudo_ortho_1030010091927600 2019-05-15T02:06:18+00:00\n"
     ]
    }
   ],
   "source": [
    "# Search for data\n",
    "satellite = \"alos3-pseudo\"\n",
    "left_bottom_lat = 33.631\n",
    "left_bottom_lon = 130.369\n",
    "right_top_lat = 33.69\n",
    "right_top_lon = 130.438\n",
    "executed = tellus.search(\n",
    "    satellite, left_bottom_lat, left_bottom_lon, right_top_lat, right_top_lon\n",
    ")\n",
    "for scene in executed[\"scenes\"]:\n",
    "    print(scene[\"dataset_id\"], scene[\"observation_datetime\"])"
   ]
  },
  {
   "cell_type": "code",
   "execution_count": 4,
   "id": "ddb409bb-b4ed-4707-b283-491dd950f19b",
   "metadata": {},
   "outputs": [
    {
     "name": "stdout",
     "output_type": "stream",
     "text": [
      "8efbbb79-41ae-4fce-b5e4-bf0e3169cbda\n"
     ]
    }
   ],
   "source": [
    "# Request differential extraction\n",
    "scene_id_a = \"alos3-pseudo_ortho_10300100537c4f00\"\n",
    "scene_id_b = \"alos3-pseudo_ortho_10300100751b9100\"\n",
    "difference_data = tellus.difference(\n",
    "    satellite,\n",
    "    left_bottom_lat,\n",
    "    left_bottom_lon,\n",
    "    right_top_lat,\n",
    "    right_top_lon,\n",
    "    scene_id_a,\n",
    "    scene_id_b,\n",
    ")\n",
    "access_key = difference_data[\"access_key\"]\n",
    "print(access_key)"
   ]
  },
  {
   "cell_type": "code",
   "execution_count": 11,
   "id": "0b61f03c-0d88-4bc9-a5f9-4deb0170dffe",
   "metadata": {},
   "outputs": [
    {
     "name": "stdout",
     "output_type": "stream",
     "text": [
      "8efbbb79-41ae-4fce-b5e4-bf0e3169cbda complete\n",
      "44f080ed-3122-4e51-816d-613ed3365ebc complete\n",
      "5f8de98d-4fe7-4250-8a42-ef16afe63f60 complete\n",
      "42af8b34-1e40-468a-a5f2-b5ca08148eb7 complete\n",
      "3f904f21-2597-4007-83ab-a88322a0e9ec complete\n",
      "2fa6f48c-c0e3-44f3-8532-f7df28e8f5d8 complete\n",
      "9e55a356-cce6-4ca5-9533-632a20593095 complete\n",
      "66683a69-dcf8-4a02-af81-02041770268e complete\n",
      "31b3ff0c-27d5-47f8-98b0-fbc6b7086a78 complete\n"
     ]
    }
   ],
   "source": [
    "# Check the status of the process\n",
    "work_list = tellus.get_work_list()\n",
    "for work in work_list:\n",
    "    print(work[\"access_key\"], work[\"status\"])"
   ]
  },
  {
   "cell_type": "code",
   "execution_count": 12,
   "id": "6242d4d7-a69b-487f-8282-03cd676e4e36",
   "metadata": {},
   "outputs": [],
   "source": [
    "# Download the results\n",
    "tellus.download(\"DEUCE_base.tiff\", access_key, \"base\")\n",
    "tellus.download(\"DEUCE_cmap.tiff\", access_key, \"cmap\")"
   ]
  },
  {
   "cell_type": "code",
   "execution_count": 13,
   "id": "8250afc8-d28f-415d-b96c-2976bb75aa43",
   "metadata": {},
   "outputs": [],
   "source": [
    "# original data provided by JAXA\n",
    "# includes c DigitalGlobe, Inc.,NTT DATA Corporation\n",
    "img = Image.open(\"DEUCE_base.tiff\")\n",
    "img.show()"
   ]
  },
  {
   "cell_type": "code",
   "execution_count": 14,
   "id": "0554d01b-65b5-4851-988e-913d7d083dda",
   "metadata": {},
   "outputs": [],
   "source": [
    "# original data provided by JAXA\n",
    "# includes c DigitalGlobe, Inc.,NTT DATA Corporation\n",
    "img = Image.open(\"DEUCE_cmap.tiff\")\n",
    "img.show()"
   ]
  },
  {
   "cell_type": "code",
   "execution_count": null,
   "id": "db8a0c88-28b5-4c28-a5e7-910e51d47711",
   "metadata": {},
   "outputs": [],
   "source": []
  }
 ],
 "metadata": {
  "kernelspec": {
   "display_name": "Python 3",
   "language": "python",
   "name": "python3"
  },
  "language_info": {
   "codemirror_mode": {
    "name": "ipython",
    "version": 3
   },
   "file_extension": ".py",
   "mimetype": "text/x-python",
   "name": "python",
   "nbconvert_exporter": "python",
   "pygments_lexer": "ipython3",
   "version": "3.9.4"
  }
 },
 "nbformat": 4,
 "nbformat_minor": 5
}
